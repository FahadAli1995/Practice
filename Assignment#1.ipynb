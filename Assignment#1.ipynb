{
 "cells": [
  {
   "cell_type": "code",
   "execution_count": 1,
   "metadata": {},
   "outputs": [
    {
     "name": "stdout",
     "output_type": "stream",
     "text": [
      "Twinkle, Twinkle, little star,\n",
      "\tHow I wonder what you are!\n",
      "\t\tUp above the world so high,\n",
      "\t\tLike a diamond in the sky,\n",
      "Twinkle, Twinkle, little star,\n",
      "\tHow I wonder what you are\n"
     ]
    }
   ],
   "source": [
    "#Q1\n",
    "\n",
    "print (\"Twinkle, Twinkle, little star,\" '\\n' + \"\\t\" + \"How I wonder what you are!\" + '\\n' + \"\\t\" + \"\\t\" + \"Up above the world so high,\" + \"\\n\" + \"\\t\" + \"\\t\" + \"Like a diamond in the sky,\")\n",
    "print (\"Twinkle, Twinkle, little star,\" '\\n' + \"\\t\" + \"How I wonder what you are\")"
   ]
  },
  {
   "cell_type": "code",
   "execution_count": 2,
   "metadata": {},
   "outputs": [
    {
     "name": "stdout",
     "output_type": "stream",
     "text": [
      "3.7.4 (default, Aug  9 2019, 18:34:13) [MSC v.1915 64 bit (AMD64)]\n"
     ]
    }
   ],
   "source": [
    "#Q2\n",
    "\n",
    "import platform;\n",
    "\n",
    "print(platform.sys.version)"
   ]
  },
  {
   "cell_type": "code",
   "execution_count": 3,
   "metadata": {},
   "outputs": [
    {
     "name": "stdout",
     "output_type": "stream",
     "text": [
      "Today's datetime: 2019-11-07 00:34:36.864566\n"
     ]
    }
   ],
   "source": [
    "#Q3\n",
    "\n",
    "from datetime import datetime\n",
    "today = datetime.today()\n",
    "print(\"Today's datetime:\", today)"
   ]
  },
  {
   "cell_type": "code",
   "execution_count": 4,
   "metadata": {},
   "outputs": [
    {
     "name": "stdout",
     "output_type": "stream",
     "text": [
      "Radius = 6\n",
      "Area =  113.112\n"
     ]
    }
   ],
   "source": [
    "#Q4\n",
    "\n",
    "radius = float(input(\"Radius = \"))\n",
    "area = 3.142*radius**2\n",
    "print (\"Area = \" , area)"
   ]
  },
  {
   "cell_type": "code",
   "execution_count": 5,
   "metadata": {},
   "outputs": [
    {
     "name": "stdout",
     "output_type": "stream",
     "text": [
      "YOUR FIRST NAME : Fahad Ali\n",
      "YOUR LAST NAME : Qureshi\n",
      "Qureshi Fahad Ali\n"
     ]
    }
   ],
   "source": [
    "#Q5\n",
    "\n",
    "first_name = input(\"YOUR FIRST NAME : \")\n",
    "last_name = input(\"YOUR LAST NAME : \")\n",
    "print (last_name  , first_name )"
   ]
  },
  {
   "cell_type": "code",
   "execution_count": 6,
   "metadata": {},
   "outputs": [
    {
     "name": "stdout",
     "output_type": "stream",
     "text": [
      "first number : 50\n",
      "second number : 24\n",
      "74\n"
     ]
    }
   ],
   "source": [
    "#Q6\n",
    "\n",
    "first_number = int(input(\"first number : \"))\n",
    "second_number = int(input(\"second number : \"))\n",
    "addition = first_number + second_number\n",
    "print(addition)"
   ]
  },
  {
   "cell_type": "code",
   "execution_count": null,
   "metadata": {},
   "outputs": [],
   "source": []
  }
 ],
 "metadata": {
  "kernelspec": {
   "display_name": "Python 3",
   "language": "python",
   "name": "python3"
  },
  "language_info": {
   "codemirror_mode": {
    "name": "ipython",
    "version": 3
   },
   "file_extension": ".py",
   "mimetype": "text/x-python",
   "name": "python",
   "nbconvert_exporter": "python",
   "pygments_lexer": "ipython3",
   "version": "3.7.4"
  }
 },
 "nbformat": 4,
 "nbformat_minor": 2
}
